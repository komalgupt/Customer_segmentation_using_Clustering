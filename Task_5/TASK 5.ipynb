{
 "cells": [
  {
   "cell_type": "code",
   "execution_count": 1,
   "id": "883e46a0-9dee-4d97-a337-78e8ddaed8df",
   "metadata": {},
   "outputs": [],
   "source": [
    "import pandas as pd  #to load and read the data,cleaning and preprocessing as well\n",
    "from sklearn.preprocessing import LabelEncoder, StandardScaler   #scaling the data for equalization \n",
    "from sklearn.cluster import KMeans  \n",
    "from sklearn.metrics import silhouette_score, calinski_harabasz_score   #for finding the performance of k-mean cluster using silhouette_score and calinski_harabasz_score\n",
    "\n"
   ]
  },
  {
   "cell_type": "code",
   "execution_count": 2,
   "id": "0f0a9650-0c19-4a5a-95d6-04a17d8578dc",
   "metadata": {},
   "outputs": [],
   "source": [
    "# dataset loading \n",
    "data = pd.read_csv(\"customer_segmentation.csv\")\n"
   ]
  },
  {
   "cell_type": "code",
   "execution_count": 3,
   "id": "56fbf6f6-83c4-4e91-8153-6eaa6b7a3ab9",
   "metadata": {},
   "outputs": [
    {
     "data": {
      "text/html": [
       "<div>\n",
       "<style scoped>\n",
       "    .dataframe tbody tr th:only-of-type {\n",
       "        vertical-align: middle;\n",
       "    }\n",
       "\n",
       "    .dataframe tbody tr th {\n",
       "        vertical-align: top;\n",
       "    }\n",
       "\n",
       "    .dataframe thead th {\n",
       "        text-align: right;\n",
       "    }\n",
       "</style>\n",
       "<table border=\"1\" class=\"dataframe\">\n",
       "  <thead>\n",
       "    <tr style=\"text-align: right;\">\n",
       "      <th></th>\n",
       "      <th>ID</th>\n",
       "      <th>Gender</th>\n",
       "      <th>Ever_Married</th>\n",
       "      <th>Age</th>\n",
       "      <th>Graduated</th>\n",
       "      <th>Profession</th>\n",
       "      <th>Work_Experience</th>\n",
       "      <th>Spending_Score</th>\n",
       "      <th>Family_Size</th>\n",
       "      <th>Var_1</th>\n",
       "    </tr>\n",
       "  </thead>\n",
       "  <tbody>\n",
       "    <tr>\n",
       "      <th>0</th>\n",
       "      <td>458989</td>\n",
       "      <td>Female</td>\n",
       "      <td>Yes</td>\n",
       "      <td>36</td>\n",
       "      <td>Yes</td>\n",
       "      <td>Engineer</td>\n",
       "      <td>0.0</td>\n",
       "      <td>Low</td>\n",
       "      <td>1.0</td>\n",
       "      <td>Cat_6</td>\n",
       "    </tr>\n",
       "    <tr>\n",
       "      <th>1</th>\n",
       "      <td>458994</td>\n",
       "      <td>Male</td>\n",
       "      <td>Yes</td>\n",
       "      <td>37</td>\n",
       "      <td>Yes</td>\n",
       "      <td>Healthcare</td>\n",
       "      <td>8.0</td>\n",
       "      <td>Average</td>\n",
       "      <td>4.0</td>\n",
       "      <td>Cat_6</td>\n",
       "    </tr>\n",
       "    <tr>\n",
       "      <th>2</th>\n",
       "      <td>458996</td>\n",
       "      <td>Female</td>\n",
       "      <td>Yes</td>\n",
       "      <td>69</td>\n",
       "      <td>No</td>\n",
       "      <td>NaN</td>\n",
       "      <td>0.0</td>\n",
       "      <td>Low</td>\n",
       "      <td>1.0</td>\n",
       "      <td>Cat_6</td>\n",
       "    </tr>\n",
       "    <tr>\n",
       "      <th>3</th>\n",
       "      <td>459000</td>\n",
       "      <td>Male</td>\n",
       "      <td>Yes</td>\n",
       "      <td>59</td>\n",
       "      <td>No</td>\n",
       "      <td>Executive</td>\n",
       "      <td>11.0</td>\n",
       "      <td>High</td>\n",
       "      <td>2.0</td>\n",
       "      <td>Cat_6</td>\n",
       "    </tr>\n",
       "    <tr>\n",
       "      <th>4</th>\n",
       "      <td>459001</td>\n",
       "      <td>Female</td>\n",
       "      <td>No</td>\n",
       "      <td>19</td>\n",
       "      <td>No</td>\n",
       "      <td>Marketing</td>\n",
       "      <td>NaN</td>\n",
       "      <td>Low</td>\n",
       "      <td>4.0</td>\n",
       "      <td>Cat_6</td>\n",
       "    </tr>\n",
       "  </tbody>\n",
       "</table>\n",
       "</div>"
      ],
      "text/plain": [
       "       ID  Gender Ever_Married  Age Graduated  Profession  Work_Experience  \\\n",
       "0  458989  Female          Yes   36       Yes    Engineer              0.0   \n",
       "1  458994    Male          Yes   37       Yes  Healthcare              8.0   \n",
       "2  458996  Female          Yes   69        No         NaN              0.0   \n",
       "3  459000    Male          Yes   59        No   Executive             11.0   \n",
       "4  459001  Female           No   19        No   Marketing              NaN   \n",
       "\n",
       "  Spending_Score  Family_Size  Var_1  \n",
       "0            Low          1.0  Cat_6  \n",
       "1        Average          4.0  Cat_6  \n",
       "2            Low          1.0  Cat_6  \n",
       "3           High          2.0  Cat_6  \n",
       "4            Low          4.0  Cat_6  "
      ]
     },
     "execution_count": 3,
     "metadata": {},
     "output_type": "execute_result"
    }
   ],
   "source": [
    "#reading dataset .head() shows top five \n",
    "data.head()"
   ]
  },
  {
   "cell_type": "code",
   "execution_count": 4,
   "id": "741db1b6-313c-48d8-af3a-1575b008d159",
   "metadata": {},
   "outputs": [
    {
     "name": "stdout",
     "output_type": "stream",
     "text": [
      "Size of the dataset by row and column are respectively :  (2627, 10)\n"
     ]
    }
   ],
   "source": [
    "#shape of data\n",
    "print(\"Size of the dataset by row and column are respectively : \", data.shape)"
   ]
  },
  {
   "cell_type": "code",
   "execution_count": 5,
   "id": "a2b7586d-683c-4441-b563-0cf61ef93719",
   "metadata": {},
   "outputs": [
    {
     "name": "stdout",
     "output_type": "stream",
     "text": [
      "Description of data :                   ID          Age  Work_Experience  Family_Size\n",
      "count    2627.000000  2627.000000      2358.000000  2514.000000\n",
      "mean   463433.918919    43.649791         2.552587     2.825378\n",
      "std      2618.245698    16.967015         3.341094     1.551906\n",
      "min    458989.000000    18.000000         0.000000     1.000000\n",
      "25%    461162.500000    30.000000         0.000000     2.000000\n",
      "50%    463379.000000    41.000000         1.000000     2.000000\n",
      "75%    465696.000000    53.000000         4.000000     4.000000\n",
      "max    467968.000000    89.000000        14.000000     9.000000\n"
     ]
    }
   ],
   "source": [
    "#descirbe the data\n",
    "print(\"Description of data :\", data.describe())"
   ]
  },
  {
   "cell_type": "code",
   "execution_count": 6,
   "id": "e3236938-ea7a-462e-a3e3-945a6cd18b54",
   "metadata": {},
   "outputs": [
    {
     "name": "stdout",
     "output_type": "stream",
     "text": [
      "<class 'pandas.core.frame.DataFrame'>\n",
      "RangeIndex: 2627 entries, 0 to 2626\n",
      "Data columns (total 10 columns):\n",
      " #   Column           Non-Null Count  Dtype  \n",
      "---  ------           --------------  -----  \n",
      " 0   ID               2627 non-null   int64  \n",
      " 1   Gender           2627 non-null   object \n",
      " 2   Ever_Married     2577 non-null   object \n",
      " 3   Age              2627 non-null   int64  \n",
      " 4   Graduated        2603 non-null   object \n",
      " 5   Profession       2589 non-null   object \n",
      " 6   Work_Experience  2358 non-null   float64\n",
      " 7   Spending_Score   2627 non-null   object \n",
      " 8   Family_Size      2514 non-null   float64\n",
      " 9   Var_1            2595 non-null   object \n",
      "dtypes: float64(2), int64(2), object(6)\n",
      "memory usage: 205.4+ KB\n"
     ]
    }
   ],
   "source": [
    "#will se the type of data each column had and number of not null values usnig info\n",
    "data.info()"
   ]
  },
  {
   "cell_type": "code",
   "execution_count": 7,
   "id": "b1d1528a-7dda-43ac-a4f5-15a5d0d6e448",
   "metadata": {},
   "outputs": [],
   "source": [
    "#droping column according to importance of my analysis \n",
    "data= data.drop(\"Var_1\", axis=1)\n",
    "data= data.drop(\"ID\", axis=1)"
   ]
  },
  {
   "cell_type": "code",
   "execution_count": 8,
   "id": "11c59907-4589-4973-8f38-25ebdde7a531",
   "metadata": {},
   "outputs": [
    {
     "data": {
      "text/plain": [
       "Gender               0\n",
       "Ever_Married        50\n",
       "Age                  0\n",
       "Graduated           24\n",
       "Profession          38\n",
       "Work_Experience    269\n",
       "Spending_Score       0\n",
       "Family_Size        113\n",
       "dtype: int64"
      ]
     },
     "execution_count": 8,
     "metadata": {},
     "output_type": "execute_result"
    }
   ],
   "source": [
    "#sum of the null values \n",
    "data.isnull().sum()"
   ]
  },
  {
   "cell_type": "code",
   "execution_count": 9,
   "id": "66d91739-1030-4e3d-ae94-d2e4f399caae",
   "metadata": {},
   "outputs": [],
   "source": [
    "#droping null values using dropna()\n",
    "data = data.dropna()"
   ]
  },
  {
   "cell_type": "code",
   "execution_count": 10,
   "id": "15081b43-a848-42e2-b8a3-b4242fb90553",
   "metadata": {},
   "outputs": [
    {
     "data": {
      "text/html": [
       "<div>\n",
       "<style scoped>\n",
       "    .dataframe tbody tr th:only-of-type {\n",
       "        vertical-align: middle;\n",
       "    }\n",
       "\n",
       "    .dataframe tbody tr th {\n",
       "        vertical-align: top;\n",
       "    }\n",
       "\n",
       "    .dataframe thead th {\n",
       "        text-align: right;\n",
       "    }\n",
       "</style>\n",
       "<table border=\"1\" class=\"dataframe\">\n",
       "  <thead>\n",
       "    <tr style=\"text-align: right;\">\n",
       "      <th></th>\n",
       "      <th>Gender</th>\n",
       "      <th>Ever_Married</th>\n",
       "      <th>Age</th>\n",
       "      <th>Graduated</th>\n",
       "      <th>Profession</th>\n",
       "      <th>Work_Experience</th>\n",
       "      <th>Spending_Score</th>\n",
       "      <th>Family_Size</th>\n",
       "    </tr>\n",
       "  </thead>\n",
       "  <tbody>\n",
       "    <tr>\n",
       "      <th>0</th>\n",
       "      <td>Female</td>\n",
       "      <td>Yes</td>\n",
       "      <td>36</td>\n",
       "      <td>Yes</td>\n",
       "      <td>Engineer</td>\n",
       "      <td>0.0</td>\n",
       "      <td>Low</td>\n",
       "      <td>1.0</td>\n",
       "    </tr>\n",
       "    <tr>\n",
       "      <th>1</th>\n",
       "      <td>Male</td>\n",
       "      <td>Yes</td>\n",
       "      <td>37</td>\n",
       "      <td>Yes</td>\n",
       "      <td>Healthcare</td>\n",
       "      <td>8.0</td>\n",
       "      <td>Average</td>\n",
       "      <td>4.0</td>\n",
       "    </tr>\n",
       "    <tr>\n",
       "      <th>3</th>\n",
       "      <td>Male</td>\n",
       "      <td>Yes</td>\n",
       "      <td>59</td>\n",
       "      <td>No</td>\n",
       "      <td>Executive</td>\n",
       "      <td>11.0</td>\n",
       "      <td>High</td>\n",
       "      <td>2.0</td>\n",
       "    </tr>\n",
       "    <tr>\n",
       "      <th>5</th>\n",
       "      <td>Male</td>\n",
       "      <td>Yes</td>\n",
       "      <td>47</td>\n",
       "      <td>Yes</td>\n",
       "      <td>Doctor</td>\n",
       "      <td>0.0</td>\n",
       "      <td>High</td>\n",
       "      <td>5.0</td>\n",
       "    </tr>\n",
       "    <tr>\n",
       "      <th>6</th>\n",
       "      <td>Male</td>\n",
       "      <td>Yes</td>\n",
       "      <td>61</td>\n",
       "      <td>Yes</td>\n",
       "      <td>Doctor</td>\n",
       "      <td>5.0</td>\n",
       "      <td>Low</td>\n",
       "      <td>3.0</td>\n",
       "    </tr>\n",
       "  </tbody>\n",
       "</table>\n",
       "</div>"
      ],
      "text/plain": [
       "   Gender Ever_Married  Age Graduated  Profession  Work_Experience  \\\n",
       "0  Female          Yes   36       Yes    Engineer              0.0   \n",
       "1    Male          Yes   37       Yes  Healthcare              8.0   \n",
       "3    Male          Yes   59        No   Executive             11.0   \n",
       "5    Male          Yes   47       Yes      Doctor              0.0   \n",
       "6    Male          Yes   61       Yes      Doctor              5.0   \n",
       "\n",
       "  Spending_Score  Family_Size  \n",
       "0            Low          1.0  \n",
       "1        Average          4.0  \n",
       "3           High          2.0  \n",
       "5           High          5.0  \n",
       "6            Low          3.0  "
      ]
     },
     "execution_count": 10,
     "metadata": {},
     "output_type": "execute_result"
    }
   ],
   "source": [
    "data.head()"
   ]
  },
  {
   "cell_type": "code",
   "execution_count": 11,
   "id": "8514f724-b807-43fd-a4b5-fcff1646f495",
   "metadata": {},
   "outputs": [
    {
     "data": {
      "text/plain": [
       "(2178, 8)"
      ]
     },
     "execution_count": 11,
     "metadata": {},
     "output_type": "execute_result"
    }
   ],
   "source": [
    "data.shape"
   ]
  },
  {
   "cell_type": "code",
   "execution_count": 12,
   "id": "fb945424-5759-4666-9df6-f3b233358ad7",
   "metadata": {},
   "outputs": [
    {
     "data": {
      "text/plain": [
       "Gender             0\n",
       "Ever_Married       0\n",
       "Age                0\n",
       "Graduated          0\n",
       "Profession         0\n",
       "Work_Experience    0\n",
       "Spending_Score     0\n",
       "Family_Size        0\n",
       "dtype: int64"
      ]
     },
     "execution_count": 12,
     "metadata": {},
     "output_type": "execute_result"
    }
   ],
   "source": [
    "data.isnull().sum()"
   ]
  },
  {
   "cell_type": "code",
   "execution_count": 13,
   "id": "b009a9ea-fadb-4a25-8fbe-69dff2a54e25",
   "metadata": {},
   "outputs": [],
   "source": [
    "data = data.rename(columns = {\"Spending_Score\":\"Purchase_history\"})\n"
   ]
  },
  {
   "cell_type": "code",
   "execution_count": 14,
   "id": "8a55857e-61e6-46b3-ba64-aa00f0c38d3c",
   "metadata": {},
   "outputs": [],
   "source": [
    "# Encode categorical variables\n",
    "le = LabelEncoder()\n",
    "data[\"Gender\"] = le.fit_transform(data[\"Gender\"])\n",
    "data[\"Ever_Married\"] = le.fit_transform(data[\"Ever_Married\"])\n",
    "data[\"Graduated\"] = le.fit_transform(data[\"Graduated\"])\n",
    "data[\"Profession\"] = le.fit_transform(data[\"Profession\"])\n",
    "data[\"Purchase_history\"] = le.fit_transform(data[\"Purchase_history\"])\n"
   ]
  },
  {
   "cell_type": "code",
   "execution_count": 15,
   "id": "f593cdc5-585b-4f5a-b24f-8b03a3187562",
   "metadata": {},
   "outputs": [
    {
     "data": {
      "text/html": [
       "<div>\n",
       "<style scoped>\n",
       "    .dataframe tbody tr th:only-of-type {\n",
       "        vertical-align: middle;\n",
       "    }\n",
       "\n",
       "    .dataframe tbody tr th {\n",
       "        vertical-align: top;\n",
       "    }\n",
       "\n",
       "    .dataframe thead th {\n",
       "        text-align: right;\n",
       "    }\n",
       "</style>\n",
       "<table border=\"1\" class=\"dataframe\">\n",
       "  <thead>\n",
       "    <tr style=\"text-align: right;\">\n",
       "      <th></th>\n",
       "      <th>Gender</th>\n",
       "      <th>Ever_Married</th>\n",
       "      <th>Age</th>\n",
       "      <th>Graduated</th>\n",
       "      <th>Profession</th>\n",
       "      <th>Work_Experience</th>\n",
       "      <th>Purchase_history</th>\n",
       "      <th>Family_Size</th>\n",
       "    </tr>\n",
       "  </thead>\n",
       "  <tbody>\n",
       "    <tr>\n",
       "      <th>0</th>\n",
       "      <td>0</td>\n",
       "      <td>1</td>\n",
       "      <td>36</td>\n",
       "      <td>1</td>\n",
       "      <td>2</td>\n",
       "      <td>0.0</td>\n",
       "      <td>2</td>\n",
       "      <td>1.0</td>\n",
       "    </tr>\n",
       "    <tr>\n",
       "      <th>1</th>\n",
       "      <td>1</td>\n",
       "      <td>1</td>\n",
       "      <td>37</td>\n",
       "      <td>1</td>\n",
       "      <td>5</td>\n",
       "      <td>8.0</td>\n",
       "      <td>0</td>\n",
       "      <td>4.0</td>\n",
       "    </tr>\n",
       "    <tr>\n",
       "      <th>3</th>\n",
       "      <td>1</td>\n",
       "      <td>1</td>\n",
       "      <td>59</td>\n",
       "      <td>0</td>\n",
       "      <td>4</td>\n",
       "      <td>11.0</td>\n",
       "      <td>1</td>\n",
       "      <td>2.0</td>\n",
       "    </tr>\n",
       "    <tr>\n",
       "      <th>5</th>\n",
       "      <td>1</td>\n",
       "      <td>1</td>\n",
       "      <td>47</td>\n",
       "      <td>1</td>\n",
       "      <td>1</td>\n",
       "      <td>0.0</td>\n",
       "      <td>1</td>\n",
       "      <td>5.0</td>\n",
       "    </tr>\n",
       "    <tr>\n",
       "      <th>6</th>\n",
       "      <td>1</td>\n",
       "      <td>1</td>\n",
       "      <td>61</td>\n",
       "      <td>1</td>\n",
       "      <td>1</td>\n",
       "      <td>5.0</td>\n",
       "      <td>2</td>\n",
       "      <td>3.0</td>\n",
       "    </tr>\n",
       "  </tbody>\n",
       "</table>\n",
       "</div>"
      ],
      "text/plain": [
       "   Gender  Ever_Married  Age  Graduated  Profession  Work_Experience  \\\n",
       "0       0             1   36          1           2              0.0   \n",
       "1       1             1   37          1           5              8.0   \n",
       "3       1             1   59          0           4             11.0   \n",
       "5       1             1   47          1           1              0.0   \n",
       "6       1             1   61          1           1              5.0   \n",
       "\n",
       "   Purchase_history  Family_Size  \n",
       "0                 2          1.0  \n",
       "1                 0          4.0  \n",
       "3                 1          2.0  \n",
       "5                 1          5.0  \n",
       "6                 2          3.0  "
      ]
     },
     "execution_count": 15,
     "metadata": {},
     "output_type": "execute_result"
    }
   ],
   "source": [
    "data.head()"
   ]
  },
  {
   "cell_type": "code",
   "execution_count": 16,
   "id": "f6474f5a-7533-4cd8-b984-8143916c606c",
   "metadata": {},
   "outputs": [],
   "source": [
    "# Feature scaling \n",
    "scaler = StandardScaler()\n",
    "scaled_data = scaler.fit_transform(data)"
   ]
  },
  {
   "cell_type": "code",
   "execution_count": 17,
   "id": "ea7934ae-5df9-4ab6-a91c-6bb24d93093e",
   "metadata": {},
   "outputs": [
    {
     "data": {
      "image/png": "[encoded data removed]",
      "text/plain": [
       "<Figure size 640x480 with 1 Axes>"
      ]
     },
     "metadata": {},
     "output_type": "display_data"
    }
   ],
   "source": [
    "import matplotlib.pyplot as plt\n",
    "import seaborn as sns\n",
    "features = ['Gender','Age', 'Family_Size', 'Work_Experience', 'Purchase_history','Profession'] \n",
    "#k-mean clustering is a part of unsupervised learning where we cannot consider any column as Target column \n",
    "inertia = []  #creates an empty list named inertia to store the inertia values for different numbers of clusters (k)\n",
    "for i in range(1, 11):  #from 1 to 10 clusters\n",
    "    kmeans = KMeans(n_clusters=i, random_state=42, n_init=10)\n",
    "    kmeans.fit(data[features])\n",
    "    inertia.append(kmeans.inertia_)\n",
    "plt.plot(range(1, 11), inertia, marker='*')\n",
    "plt.title('Elbow Method')\n",
    "plt.xlabel('Number of Clusters')\n",
    "plt.ylabel('Inertia')\n",
    "plt.show()"
   ]
  },
  {
   "cell_type": "code",
   "execution_count": 18,
   "id": "00db4e23-0f43-48ca-ac34-bdbcf5867660",
   "metadata": {},
   "outputs": [],
   "source": [
    "# Define distance metrics and initialization methods\n",
    "distance_metrics = [\"euclidean\", \"manhattan\", \"cosine\"]\n",
    "init_methods = [\"random\", \"k-means++\"]"
   ]
  },
  {
   "cell_type": "code",
   "execution_count": 19,
   "id": "9f5c6ba7-664f-408c-9d4c-a73def176184",
   "metadata": {},
   "outputs": [],
   "source": [
    "# Iterate through configurations and evaluate clustering\n",
    "results = {}\n",
    "for metric in distance_metrics:\n",
    "  for init in init_methods:\n",
    "    # K-means clustering with specific configuration\n",
    "    kmeans = KMeans(n_clusters=3,init=init, random_state=42)\n",
    "    kmeans.fit(data)\n",
    "       # Evaluate cluster quality\n",
    "    silhouette = silhouette_score(scaled_data, kmeans.labels_)\n",
    "    calinski_harabasz = calinski_harabasz_score(scaled_data, kmeans.labels_)\n",
    "\n",
    "    # Store results\n",
    "    results[(metric, init)] = {\"silhouette\": silhouette, \"calinski_harabasz\": calinski_harabasz}\n"
   ]
  },
  {
   "cell_type": "code",
   "execution_count": 20,
   "id": "dd42e836-70dd-4130-8fa5-cfebb8f362df",
   "metadata": {},
   "outputs": [
    {
     "name": "stdout",
     "output_type": "stream",
     "text": [
      "Clustering Results:\n",
      "Metric: euclidean, Initialization: random\n",
      "Silhouette Score: 0.10771990491367356\n",
      "Calinski-Harabasz Index: 306.5159660213235\n",
      "Metric: euclidean, Initialization: k-means++\n",
      "Silhouette Score: 0.1031458675427055\n",
      "Calinski-Harabasz Index: 294.5468659208394\n",
      "Metric: manhattan, Initialization: random\n",
      "Silhouette Score: 0.10771990491367356\n",
      "Calinski-Harabasz Index: 306.5159660213235\n",
      "Metric: manhattan, Initialization: k-means++\n",
      "Silhouette Score: 0.1031458675427055\n",
      "Calinski-Harabasz Index: 294.5468659208394\n",
      "Metric: cosine, Initialization: random\n",
      "Silhouette Score: 0.10771990491367356\n",
      "Calinski-Harabasz Index: 306.5159660213235\n",
      "Metric: cosine, Initialization: k-means++\n",
      "Silhouette Score: 0.1031458675427055\n",
      "Calinski-Harabasz Index: 294.5468659208394\n"
     ]
    }
   ],
   "source": [
    "# Print results\n",
    "print(\"Clustering Results:\")\n",
    "for key, value in results.items():\n",
    "  print(f\"Metric: {key[0]}, Initialization: {key[1]}\")\n",
    "  print(f\"Silhouette Score: {value['silhouette']}\")\n",
    "  print(f\"Calinski-Harabasz Index: {value['calinski_harabasz']}\")\n",
    "  #print(\"-\"*30)\n",
    "\n"
   ]
  },
  {
   "cell_type": "code",
   "execution_count": null,
   "id": "3cdc8a55-db30-4d11-834d-76d55765c556",
   "metadata": {},
   "outputs": [],
   "source": []
  },
  {
   "cell_type": "code",
   "execution_count": null,
   "id": "549a93ee-db7d-4ec9-b835-7b99038675c4",
   "metadata": {},
   "outputs": [],
   "source": []
  },
  {
   "cell_type": "code",
   "execution_count": null,
   "id": "0bca742c-3f0a-42f7-a88c-f86fb42e9086",
   "metadata": {},
   "outputs": [],
   "source": []
  }
 ],
 "metadata": {
  "kernelspec": {
   "display_name": "Python 3 (ipykernel)",
   "language": "python",
   "name": "python3"
  },
  "language_info": {
   "codemirror_mode": {
    "name": "ipython",
    "version": 3
   },
   "file_extension": ".py",
   "mimetype": "text/x-python",
   "name": "python",
   "nbconvert_exporter": "python",
   "pygments_lexer": "ipython3",
   "version": "3.12.0"
  }
 },
 "nbformat": 4,
 "nbformat_minor": 5
}
